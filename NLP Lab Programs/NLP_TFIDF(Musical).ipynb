{
 "cells": [
  {
   "cell_type": "code",
   "execution_count": 1,
   "id": "bfda9dd1",
   "metadata": {},
   "outputs": [
    {
     "name": "stderr",
     "output_type": "stream",
     "text": [
      "IOPub data rate exceeded.\n",
      "The notebook server will temporarily stop sending output\n",
      "to the client in order to avoid crashing it.\n",
      "To change this limit, set the config variable\n",
      "`--NotebookApp.iopub_data_rate_limit`.\n",
      "\n",
      "Current values:\n",
      "NotebookApp.iopub_data_rate_limit=1000000.0 (bytes/sec)\n",
      "NotebookApp.rate_limit_window=3.0 (secs)\n",
      "\n"
     ]
    },
    {
     "name": "stdout",
     "output_type": "stream",
     "text": [
      "['A14JBDSWKPKTZA', 'B00H02C9TG', 'Bob Feeser \"MillCrafters.com\"', '[0, 0]', 'Notice in the name guitar INPUT. This is not to be confused with the Amplitube iRig which achieves input and output through the iPad/iOS devices headphone jack. Headphone connections can be noisy and have reliable connection problems. They also depend on the built in AD/DA converters in the iPad/iOS device. This Apogee Jam 96k is a professional quality INPUT device that has dedicated A/D analogue to digital converter, but depends on the built in hardware of the iPad/iOS device for playback. On the other hand &#34;Apogee One&#34; has both AD and DA convertors for both input and output.Amplitube iRig from IK Multimedia has a simple stereo headphone in and out jack plug that plugs into your iPad. The built in hardware in the iPad is something that I love for doing something like watching a movie cozying up to the 10 inch screen, but for audio-phile quality you need a dedicated a dedicated pre and AD convertor and that is what this Apogee Jam 96k has. Mind you it has that for audio recording input, but playback is handled via your headphone jack on your iPad. You can of course just use that for monitoring your mix, and then save the file in a digital format internally, and send to a playback device with pristine digital audio quality; e.g. saving as a .Wav file. This makes the Apogee 96k Jam a very usable device to achieve high quality recordings at a very nice price.So here it the continuum. Amplitube iRig for headphone jack input and output quality built into your iPad etc. The Apogee Jam 96k for digital quality conversion on input only with playback being handled by headphone jack on iPad. The Apogee One on the other hand at roughly 3 times the price gives you both AD/DA conversions so it has its own audio output jack plus 2 tracks of recording either 1/4&#34; instrument and/or a balanced external microphone jack. It also comes with a built in condenser mic that is pretty amazing. It also has 48 volt phantom power for using your favorite condenser mic. When you get into the Apogee Duet and Quartet you get more connections, plus the all too important option of MIDI connectivity.', '5.0', 'Getting in the door with Apogees incredible sound quality at an incredible price.', '1405296000', '07 14, 2014']\n",
      "['A1LH6RF4UN9VI6', 'B00H02C9TG', 'E. D. Garcia \"Biggie-E\"', '[0, 0]', \"So, first up:  I've been using Macs to record music since the G4 Cube... yeah, go look that up.  Anyway, I know my way around audio recording on Apple devices.And then: yeah, this thing looks kind of cheesy or flimsy...BUT: I haven't encountered anything so Plug & Play simple as the Apogee JAM 96k since Gefen introduced the iMic.  Just plug in the USB or Lightning cable, plug in your instrument and GO.Also, it's not flimsy.  It is made of plastic, but the thing has a bit of heft to it and survived a tumble to the floor from my desk.It pulls power from your machine, so no worries about some adapter introducing hum to your recordings. This also helps those of us using electric guitars that don't have extra-wound humbuckers.I tested the Apogee JAM on a new (2014) MacBook Air, an iPhone 5, and a 2013 iPad Mini.  Garageband instantly knew what was going on, but ProTools did need a bit of coaching.A small device that doesn't color input sound and doesn't get in the way... just what I needed!\", '5.0', 'Works great... and better than expected.', '1404691200', '07 7, 2014']\n",
      "['A1SD1C8XK3Z3V1', 'B00H02C9TG', 'guitfiddleblue \"guitfiddleblue\"', '[1, 2]', \"The apogee Jam works great and it sounds great. The operation is very simple: you plug in your guitar and plug in to your Mac or ios device. I have mine hooked up to my MacBook, running Garage Band. If there is any latency I can't hear it. It works beautifully. Apogee is known for making good music products and this Jam is no exception. I was able to plug in a microphone (line level) into this as well and record my vocals. Likewise, it worked well with my 4-string bass as well. I was able to record a whole song in no time. For a simple audio interface, this is affordable and dependable.\", '5.0', 'works great - no latency', '1404086400', '06 30, 2014']\n",
      "['A356RFKNIG043B', 'B00H02C9TG', 'K. Swanson', '[0, 1]', \"4.6 starsMy main concern with adapters like this is sound quality. The A/D is often weak, and there is sometimes too much latency for it to be useful for multi-tracking. Apogee covers both areas well with this little puppy; the A/D is quite smooth, and it transfers the signal near perfectly. And little it is, not much bigger than the jack. If Bon Scott only knew...But small though it may be, there's plenty of signal processing power in there, and while it doesn't stand up my best outboard gear, it offers very clean, clear sound transfers from guitar, bass, keys and line mics, so that you can do good-sounding entire tunes on your laptop with only the JAM as interface. Which is yet another step forward in high-quality home recordings. I like the thought that we're getting closer to folks releasing things entirely by themselves on their own sites, and not paying Crapple a huge chunk of profits for merely hosting a file. Record companies and file hosts are increasingly anachronistic due to tech like this JAM, and maybe soon enough we'll see artists keeping ALL of the profits from their art. Imagine that!This offers very close to studio quality, but keep in mind that even with 24-bit it is solid state. Once you've used a good tube preamp you know what a difference in warmth in can make. I ran this through one of mine and the A/B made it very obvious that old school studio gear still has its place.Speaking of Crapple, the ads for this suggest that it is for iStuff only, which is not true. I ran it on 7 Ultimate and it worked a charm, so don't be fooled by the typically proprietary ads, which Cook and co. probably insist on: &#34;Don't mention anybody but us! Offer no alternatives! They must stay in our universe!&#34; Well, you needn't, this works with almost anything, so don't be fooled by the ad copy.The only negative I can find is that it is a little chintzy in outer build, making one wonder how good the internals are, and how long they'll hold up. A stronger, more solid sleeve would have been nice, especially at the price of 130. But it does sound good, though as it may be used for portable purposes, you might want to wrap it for transport in a little hand towel or such to make sure shocks don't mess with it. Take care of your recording equipment and it will take care of your music!\", '5.0', 'Good clear A/D, almost no latency, and works with Windoze', '1405296000', '07 14, 2014']\n",
      "['A2VH0UT5EQFB6P', 'B00H02C9TG', 'Loveguitar', '[0, 0]', 'This will work with my daughter\\'s iPod Touch generation 4.  However, the \"Garage Band\" app is for iOS 7, and hers is an iOS 6.1 and will not update to 7.  So, though she can\\'t use Garage Band, there are others that are supposed to work.  She downloaded the Ampkit app and it works great with her iPod and the Apogee Jam.Here is a list of other apps that are supposed to work with the Apogee Jam:AmpkitAmpliTube (version 2.5 or greater)Amps & CabsAnytuneApple GarageBandAudio Deck ProfessionalBias iProRecorderEveryDay LooperFairlight SamplerFantastocrats StudioMiniGibson\\'s L&M;Hindenburg Field RecorderiAnalyzeriMovieiRecorder ProiShred LiveJamUpLoopyMcDSP Retro RecorderMultitrack DAWNano Studio (TRG-16 pad sampling)PocketAmpPocketGKReap DFXRiot FXRock Prodigy: GuitarScratchTonesSonoma FourTrackSonoma GuitarToneStudio Devil Guitar AmpTaylor EQVocaLive (version 1.5 or greater)Voice MemosXewton Music Studio 2.0It\\'s a pretty cool idea, but the cords are a nuisance.  Most electric guitar players like to stand while playing, and the cords need some managing to keep them out of the way and not have them pull out of their connections.  I was surprised at how small the JAM is.....slightly bigger than a Bic cigarette lighter.  Using this is much more convenient than lugging an amp around, and it saves on other\\'s ears and nerves if they can only hear the acoustic playing of the guitar strings, especially if you are beginner guitarist!Overall pretty good, and very simple to operate.  Just make sure you have a full charge on the device of your choice.  My daughter also used it to record her playing and said that was easy to do.', '4.0', 'Apogee JAM 96K Guitar Input for iPad, IPhone and Mac', '1403568000', '06 24, 2014']\n",
      "['A1RPTVW5VEOSI', 'B00H02C9TG', 'Michael J. Edelman', '[1, 1]', \"I've been recording on my iMac, iPod Touch, iPad, and iPhone for some time, using Garage Band. Interfacing with the iMac is easy, using various USB devices- I'm currently using a USB-equipped Alesis preamp. iOS device interface is a bit more difficult; it is possible to use USB preamps, with an externally powered USB hub, but that starts getting very complicated and messy.  I've been using simple devices like the 1K that  split the headphone/microphone jack into two separate cords, one for headphone, and one for guitar. The problem with this sort of configuration is that it's very easy to overload the microphone input, and the recording quality done this way is not very good. The Apogee JAM is a big improvement over this method for a number of reasons. First, it contains its own dedicated preamp and A/D, and because of that it delivers a wide dynamic range and excellent fidelity. Interface issues are non-existent; plugged into both the iPad and iPhone it was immediately recognized. I didn't have any problems with either of the three supplied cables.The JAM is significantly more expensive than the simple interfaces, but on the whole I think it's worth it. It's simple to use, has no detectable latency, and delivers excellent sound quality. It does seem to draw a fair amount of current, and battery life  is shortened significantly when using this with an iPhone. You'll want to plan on more frequent than usual recharging sessions. With the iPad, this isn't as noticeable. Even with that issue, I think the JAM is a good value.  The various iOS devices are capable of making very high quality recordings, but only with quality input. Given the cost of an new iPhone or iPad, the cost of the JAM is rather trivial in comparison.\", '5.0', 'Excellent sound, low latency, plug and play', '1403395200', '06 22, 2014']\n",
      "['ABC68JUCPTVOE', 'B00HFRXACG', 'A. Fabbri \"afabbri\"', '[0, 0]', \"These may be my new favorite bass strings.Likes:- Bright.  I'd call them &#34;very bright&#34;, except they don't seem to have the harsh twangy tone I'd expect.  They seem bright, yet still soft.- Clear.. The lows sound present and clear.- Consistent flex.  Once I had these on for a couple of days, the tuning seemed very stable.  The tone seems to sharpen less when they are played hard, compared to my last strings.- D'Addario brand.  To me, these guys have a long history of making excellent strings.- Playability.  These feel pretty supple and effortless to work with.- Price. I feel like I should be paying more for these strings.Technology:- New design. &#34;Textured round&#34;.  This is a round-wound string with a hex-shaped core.Overall, love these.  Especially for the price.\", '5.0', \"D'Addario has a hit on their hands.\", '1404086400', '06 30, 2014']\n",
      "['A3VVKC910FN4EK', 'B00HFRXACG', 'David Basham', '[1, 1]', 'This is the perfect fit for all my basses. I have two Ibanez and two Essex basses. They recommend the light top medium bottom string gauge. I play fingerstyle and they feel great. They have corrosion resistant packaging and since corrosion is what kills your strings the longer you can keep it at bay the better. They are made in  the USA and they use recycled packaging. I cannot attest to their lifespan but the package says long life so we will concede that point.', '5.0', 'Just my size', '1401667200', '06 2, 2014']\n",
      "['A20OBCQWBKCGZT', 'B00HFRXACG', 'Flaherty', '[0, 0]', \"I'm mainly a guitarist but I do play bass from time to time on an old Fender American. These strings are very bright in a good way with a clear, smooth sound. I love the tone you get out of these, very bluesy and the punch isn't too rough it's just right. I'm a huge fan of D'Addario, been using their strings for at least 4 years and they never disappoint. Give these a try if you're looking for some new strings.\", '5.0', \"D'Addario does it again, great punch and bright tone\", '1404691200', '07 7, 2014']\n",
      "['A3AOPVQ7EZHTWA', 'B00HFRXACG', 'frankp93 \"frankp93\"', '[2, 2]', \"I put the set on my Squire Jazz Bass with threaded bridge rollers. If you don't like loading up the tuners, trim a few inches off the leads; they're about 8-9 inches and have no cloth covering like Fenders. I usually play medium gauge flatwounds on this bass and the FlexSteels have overall less tension. I let out the truss rod a half turn to eliminate buzzing (yeah, ironic for a set designed for slapping).Gave them a good stretch and they're holding pitch well. I find the windings on the FlexSteels more comfortable than Rotosounds - at least comparing new-to-new. That helps when playing more horizontally with a lot of position shifting.Overall I'm more into jazz and classic prog than slapping and there's plenty of 'piano low-end sproing' (Squire, Lake and Ray Bennett fans will feel right at home, fingers or pick). The set is so bright-sounding in fact I had to roll a considerable amount off.The label says 'Light Top/Medium Bottom' (45-65-85-105): I found the gauge balance between the low E-A and the high D-G a little more pronounced than I'd like, but not outright uncomfortable.\", '4.0', 'Comfortable Alternative to Rotosounds', '1403481600', '06 23, 2014']\n",
      "['A2VRAT69JDAD3W', 'B00HFRXACG', 'Jason Whitt \"Whittmeister\"', '[2, 2]', \"I've been using D' Addario strings for 20+ years to great satisfaction.  These flex steels are excellent.  Bass tones, response and resonance are superior to my ear.  You can't go wrong with these guys.\", '5.0', \"D' Addario is the best\", '1403136000', '06 19, 2014']\n",
      "['A356RFKNIG043B', 'B00HFRXACG', 'K. Swanson', '[1, 1]', 'I play guitar and bass, but the gitpicker in me envies full-time bassists because they almost never break strings, and bass strings hold their tone far longer than guitar strings. The price has also come down to where you can spend well under a hundred bucks a year on strings and always have fresh tone rich with harmonics. You don\\'t know how good you\\'ve got it! And these D\\'Ad\\'s are very good all-round strings, though they make a lot more noise than flatwounds and even \"normal\" nickel wound, so they\\'re not for sloppy fingers.Very nice for funky players and those who want more definition and edge, these FlexSteels ring nicely and I like that the bottom E is a tad thicker at 105 than the usual light set\\'s 100. Because these are pretty bright, that extra oomph is nice. And I\\'m a big believer that the amp can fix string issues much more easily with bass than guitar, so merely dialing out a little treble or even rolling off the volume a bit on your bass will take care of that. But if you\\'re popping and slapping, these come through loud and clear. I really like the feel of the low E when I thumb pop with these.I play a P-bass with my index, middle and thumb, and these punch nicely at that scale length. The pickups also like them, and they get plenty loud, with full definition and plenty of top end, but not brittle. With a Trace Elliot or other high-def amp, these would be very unforgiving for all but the most exact players. I bet Marcus would kill with them.I think these are perfect for funk, and excellent for almost all rock styles. Obviously flats are better for jazz, but these make a good all-around string and for less than 20 clams they\\'re a great deal.', '5.0', 'You lucky basstards!', '1402617600', '06 13, 2014']\n",
      "['A3KZEGBTPH6MMF', 'B00HFRXACG', 'Lucy Cat \"Mandy\"', '[0, 0]', 'A great set of bass strings with all the right features:- Perfect balance of bright/punch and warmth- Right, deep tones- Great feel and playability- Stable tuning- &#8220;Textured round&#8221; design with hexagonal core shape- Durable- Easy to stringMy father uses D&#8217;Addario on his telecaster and acoustic guitars, which originally prompted me to choose D&#8217;Addario for my Fender Jazz bass.  I can say that the brands&#8217; reputation carries over to bass&#8212;these are phenomenal strings.', '5.0', 'Tremendous strings', '1404518400', '07 5, 2014']\n",
      "['A1RPTVW5VEOSI', 'B00HFRXACG', 'Michael J. Edelman', '[1, 1]', \"I've been using D'Addario XL nickel wounds on my P-Bass for a long time. They have a lot of tone, they seem to last a long time, and they're not very expensive. These strings have the same feel as the nickel wounds, but are a lot brighter You get lots of overtones and high end from these. The choice of gauges is a little different from the regular XLs, too; instead of the .085 A and the .100 E they have a .085 A and a .105 E. That's just enough to give you a slightly more solid low end, and more metal to dig into, while retaining low tension in the D and G. I'm more of an old-school player and prefer nickel for that mellower sound, but if you're into funk or more modern sounds, you may feel that the bright SS sound is for you, and if so, these are a great string.\", '4.0', 'Very bright', '1401062400', '05 26, 2014']\n",
      "['AWCJ12KBO5VII', 'B00HFRXACG', 'Michael L. Knapp', '[2, 2]', \"I installed these on a Fender Jazz bass with active electronics. After stringing them up & tuning I immediately noticed how really sharp they sounded. I play finger style and they really added a clear definition to each note played. They sounded great all up & down the fret board. Where I really noticed the difference was in recording. Been working on a new batch of songs and a the bass to the songs on the recordings made after these strings is noticeably superior to the ones made before. Except for the songs with acoustic bass I will be going back and re recording the bass parts to the songs made before I installed these strings. I  don't play slap or pick bass so I can't say how well they work for those styles but for my purpose they come very highly recommended.\", '5.0', 'Fine strings', '1402963200', '06 17, 2014']\n",
      "['A29B4PAIOL7HYG', 'B00HFRXACG', 'N. Caruso \"gibsonjunkie\"', '[1, 1]', \"I have to admit this up front - I'm a terrible bass player. I play guitar and keep a bass in the music room for times when I have friend over to jam. I do dabble with the bass, but I'm not proficient with it. That being said; I really appreciate the difference these strings make in sound, playability and durability. These strings sound better and feel great to play for long periods of time. They have &#34;punch&#34; and &#34;snap&#34; which are good things to have in a bass. I haven't had them on for a real long time, but in the time I've had them they remain consistent and show absolutely no sound or metal degradation in the time they've been on my Fender MIM Jazz bass. When I need another set, I'll buy these!\", '5.0', 'Great strings', '1402444800', '06 11, 2014']\n",
      "['A27L5L6I7OSV5B', 'B00HFRXACG', 'Otto Correct', '[0, 0]', \"These are some bright strings!I play with a pick and mostly stay in the realm of rock 'n' roll, so no comments on the slapping and popping claims the packaging makes, but there are plenty of great rock tones to be found.  Heck, crank the amp and dig in with a pick and these would be great strings for any Motorhead covers you're planning on playing!  Good bright steel tone, not anywhere near as harsh on your fingertips (or frets!) as Rotosounds, and they're only a Jackson, not a bad string!\", '5.0', 'Great for the price!', '1405900800', '07 21, 2014']\n",
      "['ABC68JUCPTVOE', 'B00IZCSW3M', 'A. Fabbri \"afabbri\"', '[0, 0]', 'Likes:- Pretty smooth.  Minimal fret noise and squeak compared to some- Bright, strong mids.- They do seem to stay in tune well.  Havent had to change tuning once they settled in.Will update this review with more experience as I play on these strings over the next week.', '5.0', 'Great strings.', '1403136000', '06 19, 2014']\n",
      "['AV8MDYLHHTUOY', 'B00IZCSW3M', 'Amazon Customer \"eyegor\"', '[1, 1]', \"My daughter is learning how to play and the .11 - .48 string set on my strat are giving her a literal pain.I put a set of the D'Addario NYXY0942 strings on my backup guitar and tuned it up. Usually, I've had issues when bringing some brands of strings up to pitch, but the D'Addario's seemed to do a much better job. I nearly always stress the higher pitch strings a bit before bringing them up to their final pitch and they stabilized quickly. The wound strings also seem quite stable. Frequently, it takes up to a couple of days for some strings to settle in, but I've seen no such issues with the D'Addario's.I usually use thicker strings on my guitars to get a fatter tone, but I was impressed by the sound of these in spite of them being much thinner than I usually like.My daughter is also very happy with them since they're not quite so tough on her fingers.\", '4.0', 'very nice extra light strings', '1400112000', '05 15, 2014']\n",
      "['A146H4KN4LFR60', 'B00IZCSW3M', 'angelfood', '[2, 2]', \"Put these on my G&L; S500 electric. Sound great, play great, keeping their tune. None broken yet, but I don't usually break strings. I play at home for pleasure and recording, not out hitting the clubs. Blues, blues slide, rock, metal.I use D'Addario strings a lot. I try others but always come back to them. These will probably be my go to strings on electric guitar from now on. I really like them.\", '5.0', 'Hammer, Bend, Thrash It!', '1400976000', '05 25, 2014']\n",
      "['ABKNRVFFLEA3M', 'B00IZCSW3M', 'bertrarious \"bertrarious\"', '[1, 1]', \"I usually don't use anything lighter than 10s because I think the tone starts to get thin on both the highs or the lows.  I had already tried these in the 10 gauge size, and when these were offered via the Vine program, I thought what the heck.  I have a guitar which I believe the tension is always high and tried these on that instrument.  They do seem to help the string tension issue and the low end sounds (to these 62 year old ears) quite comparable to the 10s.  However, I do think there is still a thinning of the high end, but that's subjective.  I gave the 10s a 5 rating, and, realistically, I would give these 4.5 id I could.  If you're into 9 gauge strings I recommend these, but I'll stick with 10s and 11s.\", '4.0', 'Very good strings, tone starts to thin', '1399593600', '05 9, 2014']\n",
      "['A14JBDSWKPKTZA', 'B00IZCSW3M', 'Bob Feeser \"MillCrafters.com\"', '[0, 0]', \"I have preferred Ernie Ball Extra Lights which is a nickel string. They have a smooth depth of tone which is my preference. The NYXL's have a brighter tone, good playing ease, and stay in tune better when making new string changes. If you have a mahogany body guitar such as the Les Paul junior specials then the added top end would make a very nice match, or if you like a brighter tone on any guitar the same applies.These are not coated strings which a lot of strings in this price range are. Pertaining to output I am a firm believer that although you can notice a difference quite readily between certain types of stings in &#34;acoustic/unamplified&#34; output, but once you plug them into an amp with a volume knob the difference disappears.These do stay in tune better than my usual Ernie Balls nickels when you first put them on. The nickel takes a day to stretch into the tension of proper pitch. These have their tension adjust better on the first day of use. After the nickels set in you may not notice much of a difference. I find that by lightly sanding the nut with 1000 grit paper, and using Big Ben's Nut Sauce on all of the contact points of the string does more for keeping a guitar in tune than any other. Having these NYXL's on there is just one more added benefit.I would say if you are looking for a brighter tone, with better tuning stability, these are the ones to have. You can tell from the wall to wall 5 star reviews these are the one to have.\", '5.0', 'Stay in tune better, more top end brightness', '1402790400', '06 15, 2014']\n",
      "['A2VAD79S4A06DD', 'B00IZCSW3M', 'Bookenator', '[1, 1]', \"I normally get Elixir strings, but these sounded too good to pass up. They are indeed some high tech strings, with features including break resistance and improved tuning stability. Plus they feel and sound good. So grab a pack and get jamming. You'll definitely want to check these out.\", '5.0', 'Great strings, give them a spin.', '1400112000', '05 15, 2014']\n",
      "['A2FY8306QHI5LE', 'B00IZCSW3M', 'Bryan Barrow', '[0, 0]', \"At about twice the price of their standard strings, These D'Addario NYXL strings make lots of enticing claims about tuning stability, higher breaking point, and something called &#34;fusion twist&#34; (which I swear is a rare Chubby Checker B-side).Having just put a set of these on one of my guitars, I can't speak to any of the claims of superiority over other strings, but I can say they are solid, dependable strings with lots of &#34;punch and crunch&#34;.\", '4.0', 'Solid Dependable strings', '1403308800', '06 21, 2014']\n",
      "['A3A7Y3TSPPZU9T', 'B00IZCSW3M', 'coffeebrain', '[1, 2]', 'I ordered these for my husband the guitar player.  He loves these strings.  He said they are high quality and make his guitar sound great!  Highly recommended.', '5.0', 'Guitar Strings, Light', '1400457600', '05 19, 2014']\n",
      "['A3VVKC910FN4EK', 'B00IZCSW3M', 'David Basham', '[1, 1]', \"Great strings with a good feel to them. They are size 10-46 which is just right for my electric guitars. I won't know how long they last for awhile but they are a bit pricey. If they hold up well then they are loud and bright on my telecaster and I will switch if they last a long time. I don't think of these as extra lights (09-42) they are more of a light to me.\", '5.0', 'Great', '1400025600', '05 14, 2014']\n",
      "['A30J7WQV0ZNRXG', 'B00IZCSW3M', 'D. Reinstein \"marindavid\"', '[4, 4]', \"I am,  primarily, an acoustic guitar player who acquired my first electric just about a year ago, a Gibson Les Paul. What I am finding is that the situation with electric guitar strings is very similar to that with acoustic guitars. Most name-brand strings are just fine, but some are markedly different than others. A few are actually a notch-above the others. These NYXLs from D'Addario are definitely in that 'notch above' category.I find them easier to play, better sounding and more reliable in holding their tuning than the six or seven others I have tried. I plan to stick with them.  A few comments about each area:Playability:These NYXLs bend easier and take less of a toll on the tips of my fretting (left) hand than do most of the others. Of course I have callouses that have been developed over the years and feel permanent - but heavy playing can still make my fingertips sore. These strings seem less 'cutting', even after a couple of hours of constant playing. THey also 'squeak' less when I slide up and down the neck.Sound:The sound is crisp and rich at the same time. Most electric guitarists who I know tend to prefer one of these qualities over the other and choose their strings accordingly. I prefer a blend of both - just as I do for my acoustic instruments.  These NYXLs provide the closest blend that I have been able to achieve of these two different but complimentary characteristics, andTuning:Tuning and re-tuning can drive a guitar player to distraction.  Even some really good sounding strings don't hold the tuning very well and even after only one brief riff, need to be adjusted by at least a quarter tone. These NYXLs are holding the tuning FAR better than the others I have used. Less time tuning = more good time playing!All-in-all, I found no flaw in these strings. There is always something new coming along and D'Addario's formulation that uses high carbon steel alloy in the manufacture of these strings seems to make a considerable and positive difference.  UNtil someone comes up with something better, I expect to stick with them!\", '5.0', 'The Best I Have Ever Used! These really ARE different and better.', '1401840000', '06 4, 2014']\n",
      "['A2IMZNPSJGB2HQ', 'B00IZCSW3M', 'Fernando Valenzuela', '[0, 0]', \"I'm a long time D'Addario user. From the time I started playing I've tried most of the different brands out there and always end up back with my D'Addarios. I got the .09's to try on my Strat and the .10's to try on my LP and found that these new NYXL strings do have a little better output and stay in tune a little better but the trade off is the cost. Currently they're $11.99 on here compared to $4.99 or less for the regular version. So if you burn through a lot of strings, that may be a consideration. I don't go through strings that frequently (I'll change on each guitar every 2 to 3 months) so it's not a big concern for me.\", '5.0', 'Nice Improvement', '1404691200', '07 7, 2014']\n",
      "['A20OBCQWBKCGZT', 'B00IZCSW3M', 'Flaherty', '[0, 0]', \"I've used D'Addario strings for years and they never fail me. These extra light are great for playing lead as they're easy to bend and feel great on your fingers. As they are extra light strings, they serve limited purposes but as for tone quality it is very smooth and clear. For a brand as a whole i'd recommend D'Addario strings to any guitarist and for gauge it's really dependent on play-style and role if you are in a group.\", '5.0', 'Great company, always great strings', '1403136000', '06 19, 2014']\n",
      "['A3AOPVQ7EZHTWA', 'B00IZCSW3M', 'frankp93 \"frankp93\"', '[0, 0]', 'I usually play an .11 on top and first grabbed my digital caliper to confirm the gauge of the high E in this set &#8211; it felt heavier than a .10, but the LED doesn&#8217;t lie and it confirmed .10.I put the NYXL set on my Ibanez Artist with DiMarzio  humbuckers. I stretch new strings out of habit; I don&#8217;t like the constant slipping as they settle.  I stretch all six strings in about 4-5 segments up the neck, retune, and hope for the best.There&#8217;s no whammy bar on the Artist and, for the first few days, I did a lot of blues bending to see how they&#8217;d hold up - the NYXLs stayed in tune very solidly with only minor tweaking as to be expected with any strings.I chose a darker-sounding guitar than a single-coil Fender, hoping the supposed brightness of the NYXLs would be more noticeable. On this guitar I usually play D&#8217;Addario XLs and an Ernie Ball &#8216;pink&#8217; set on my Strat so I&#8217;ve got two points of reference.In terms of tone, from the start the NYXLs sound much closer to &#8216;broken in&#8217; than the Ernie Balls. There&#8217;s far less &#8216;new jangle&#8217; to them and, while they&#8217;re bright, they&#8217;re manageable for the kind of tone I&#8217;m after. I play jazz in a more contemporary vein &#8211; in terms of tone more Scofield and Abercrombie than Wes Montgomery and Jim Hall.  I like a rich tone with some high end but without too much &#8216;klang&#8217;.In terms of feel and tension the NYXLs are stiffer and closer to the regular XLs than to Slinkys, which is probably to be expected. But oddly, the windings of the low E-A-D remind me a bit more of the Ernie Balls than XLs, whose windings feel a bit wider.Three weeks on, with the onset of warm humid weather around here the strings are showing no rust and still sound fresh.With so many players going through modeled amps and effects it&#8217;s a fair question just how much the tonal quality of electric strings still matters &#8211; or are we headed for &#8216;virtual strings&#8217; designed mostly for durability and intonation. Will we be dialing in &#8216;new and klangy&#8217;, &#8216;broken in with worn windings, or &#8216;sweated through and rusty&#8217;.I like to believe there are enough players out there young and old still fussy about tone and the role a good set of strings plays in delivering it.  To them I&#8217;d say these are worth checking out.', '5.0', 'A Nice Upgrade of D&#8217;Addario&#8217;s workhorse XLs', '1402963200', '06 17, 2014']\n",
      "['A3M1PLEYNDEYO8', 'B00IZCSW3M', 'G. Thomas \"Tom\"', '[1, 1]', \"I've been using Ernie Balls cobalt slinky light gauge because I like the feel.  I got these from the Vine, and wow, they are awesome.  They cost no more than the strings I normally get, but the tone and feel is totally different.  I can't comment on how long they'll last or keep in tune..but for now, I'm impressed.  I'll probably keep using these on my Santana PRS for awhile since I like the sound.  Every once in awhile, I'll step outside of my box...I mean.. I know the strings that I like and I tend to stick with them.  I use d'addario on my acoustic guitars, and ernie balls on my electrics..except for my strat..I like fender bullets on it.  So the sample from the Vine...sorta of nudged me..and I'm the better for it.\", '5.0', 'Awesome Tone', '1399248000', '05 5, 2014']\n",
      "['A2VRAT69JDAD3W', 'B00IZCSW3M', 'Jason Whitt \"Whittmeister\"', '[1, 1]', \"I have used D' Addario electric guitar strings for years and have always loved their feel, playability, tone and reliability.  This set is no exception.  Light gauge for those who like to shred a little more but still great tone.  Highly recommend anything by D' Addario.\", '5.0', \"D'Addario is the best\", '1399507200', '05 8, 2014']\n",
      "['A31RULW0KNYJ5H', 'B00IZCSW3M', 'LA', '[1, 1]', \"For a long time, I never thought much about guitar strings. I pretty much thought they were all the same.In fact, guitar strings seem to be enjoying a technological renaissance these days. D'Addario has gotten into the act with these NYXL strings, and I have to say that they are not like any other strings I've used.The feel is different, and the sound is different. Different in a WOW way. Yeah, they're more expensive, but they're worth it. I'm a cheapskate, and I can't go back to cheap strings.Now I'm spoiled, and I've become a guitar strings snob.\", '5.0', 'Cadillac of Guitar Strings', '1398902400', '05 1, 2014']\n",
      "['A3KZEGBTPH6MMF', 'B00IZCSW3M', 'Lucy Cat \"Mandy\"', '[0, 0]', \"My father is a full-time gigging musician primarily on Steel Guitar and Telecaster.  He has been playing over 50 years and it takes a lot to get him interested in new strings.  We both use D'Addario strings almost exclusively (myself on bass guitar, and him on the electric).  These are *outstanding* strings with great durability, playability and exceptional sound.  They remain in tune for long gigs or recording sessions, they generate less fret noise than comparable strings and have a bright/crisp sound that really stands out. Well worth the extra investment.  Highly recommended!\", '5.0', \"Great for pickin' on the Tele or almost anything else!\", '1402704000', '06 14, 2014']\n",
      "['AWCJ12KBO5VII', 'B00IZCSW3M', 'Michael L. Knapp', '[7, 7]', \"D'Addario has always been one of the best string manufacturers around. I've used their strings for electric & acoustic bass, electric and acoustic guitar, Irish bazouki, mandolin, Irish tenor banjo, 5 string banjo & even used their octave mandolin strings on my Serbian brach always with stellar results. When they said these were deluxe premium strings I knew it wouldn't be hype. I was right. I strung my guitar with these about 3 weeks ago & have probably played the guitar 25 or so hours at gigs and in the studio. I've never had a set of strings stay in tune over the course of 3- 45 minute sets but these did. And I was sober so it wasn't just an altered consciousness that made me believe they were still in tune. Not only that they were still completely in tune the next morning when I played it. Of course that wouldn't mean a thing if they didn't feel good on the fingers. They do. Like they were custom made for your guitar. They were on my Rickenbacker so I can't honestly tell you if they work good with a vibrato but I strongly suspect they would. Not only do they stay in tune but 3 weeks later they still sound crisp & new. I'm going to be interest to see how long they continue to sound good.  I usually change my strings every other week when I'm playing regularly so I'm already passed my regular limit. I may update this review in a month or so when I know how long they lasted. Most highly recommended!\", '5.0', 'All they claim to be', '1400716800', '05 22, 2014']\n",
      "['A29B4PAIOL7HYG', 'B00IZCSW3M', 'N. Caruso \"gibsonjunkie\"', '[1, 1]', \"I usually use Gibson Vintage Nickle Strings on my electric guitars but when I had an opportunity to try theses strings out I jumped at the chance. I put them on a Gibson Les Paul Goldtop guitar with P-90 pickups. I had no trouble installing them and they tuned up pretty quickly without a lot of stretching needed. They had some great &#34;spank&#34; and sounded great. Easy to play (they almost seemed thinner than advertised - they play like 9's but sounded like tens). I am really happy with these and will probably buy them on occasion instead of the Gibson strings. Next I want to try a set on a Strat and see how they sound - I suspect they will sound and play great!\", '5.0', 'Nice strings', '1399766400', '05 11, 2014']\n",
      "['A27L5L6I7OSV5B', 'B00IZCSW3M', 'Otto Correct', '[1, 2]', \"Excellent tone, and I'm a bit surprised by that.  I mean, D'Addario strings are fine and all, but that's it, they've always just been your average basic string to me.  These promise to be a premium contender and they certainly deliver.  I strung up my Agile AL-3000 (best Les Paul copy you can buy, look them up) with them, tuned up and these things roared!  Rich full harmonic tone, with plenty of bend and sustain.  These strings really do feel and sound great.  I never thought I'd be praising D'Addario so much, but these strings really do deliver.\", '5.0', 'Great strings! They really sing!', '1401494400', '05 31, 2014']\n",
      "['AOMEH9W6LHC4S', 'B00IZCSW3M', 'Personne', '[0, 0]', \"I've been stringing my guitars with D'Addario for several years.  While my jazz box is set up with heavy strings, my Les Paul goes lighter--horses for courses, you might say.  I've been using D'Addario XL strings on this guitar for a while, although it's the EXL140 (slightly larger bottoms).  But why not give these lighter strings a try?  The quality is obviously high.  Tone is good, as is durability.  If you do much complex chording, you're going to miss the heavier string, but for shredders and pure rock players these are very nice.  I'll be going back to the EXL 140s, since I prefer the more positive feel of the larger string.  But fat or skinny, D'Addario makes some of the best strings out there.\", '5.0', 'A little skinny for me, but the quality is undeniable', '1400976000', '05 25, 2014']\n",
      "['A3VDSGNIS92OVZ', 'B00IZCSW3M', 'P. Hamm \"p-squared\"', '[8, 10]', \"Don't get me wrong, the improvement over the old formulation is noticeable. There's a little more &#34;brightness&#34; to the output, they are a little more long-lasting, and they stay in tune quicker and longer than the normal XL120. This is a good string.But it looks like the going rate on these strings will be 12 bucks a set. I can get three sets of regular (excellent) XL120 strings for that money, and if the NYXL lasted 3 times as long then they'd be worthwhile, but I've been able to try them twice now, and they don't last 3 times as long.Great string, great innovation, great achievement, drastically overpriced.\", '3.0', 'Noticeable Improvement... but at what cost?', '1398643200', '04 28, 2014']\n",
      "['A27H0T39U3FZB5', 'B00IZCSW3M', 'P. MSakamoto \"boy clothes\"', '[0, 0]', \"These have a nice bright sound and are easy on the fingers with a light action. Pretty deluxe strings for the price here on Amazon. I have them on my travel acoustic six string (Martin) and am happy, especially since I am not a &#34;pro&#34; guitarist and my fingers can get sore.I say, get 'em!\", '5.0', 'Nice bright sound with easy action', '1403049600', '06 18, 2014']\n",
      "['A2PD27UKAD3Q00', 'B00IZCSW3M', 'Wilhelmina Zeitgeist \"coolartsybabe\"', '[2, 2]', \"D'Addario's NYXL1046 Nickel Plated Electric Guitar Strings, I have the Light, are THE best! I've got them on my Fender Strat. I can tune my guitar and play it for a couple hours and still not have it go out of tune. Even if I'm using the tremolo bar and bending strings these things stay in tune. When I get together with other guitar players to jam I don't have to worry about being the one who has to keep tuning my guitar. A couple Ernie Ball die hards are about ready to jump ship and get on the D'Addario Line after seeing mine in action.I can put my Strat aside, pick it up to play a few days later and it's still in tune. Doesn't happen when I pick up my other electric that don't have these strings on it yet. Either I'm going to have to put these on my other electric or the Fender is going to be my baby who gets all the play time with Mama.I've never used strings that bend so well. And they don't cut into my fingers as much when playing for extended periods of time. These are miracle strings in my mind.Most importantly, they sound GREAT!Good going D'Addario!\", '5.0', 'Stay In Tune Better', '1402963200', '06 17, 2014']\n",
      "['A146H4KN4LFR60', 'B00J4TBMVO', 'angelfood', '[0, 0]', \"Just put these on my Martin DCX1E and they sound great! This is a big guitar that really rings out and the Elixir strings have a great sparkle with a clear bright tone. Playing rhythm guitar, flat picking and fingerpicking.I can't say if they last longer, vine has us review this asap. After daily playing for hours they sound fine and hold their tuning. I have used Elixir nano web strings before and I do think they keep their tone a bit longer. That being said, my go to strings are still D'addario.\", '5.0', 'A Good Guitar Deserves Good Strings', '1405036800', '07 11, 2014']\n",
      "['A3A7Y3TSPPZU9T', 'B00J4TBMVO', 'coffeebrain', '[0, 0]', \"I ordered this for my husband, the musician. He said these are high quality strings giving great tone and good feel. He would definitely purchase this product...and he's pretty picky about his guitar strings!\", '5.0', 'Great Strings', '1403654400', '06 25, 2014']\n",
      "['A30J7WQV0ZNRXG', 'B00J4TBMVO', 'D. Reinstein \"marindavid\"', '[0, 0]', \"I had used Elixer strings for several years on both 6 and 12 string guitars. Somehow, I had gravitated over to other brands including Martin and D'Addario.  I got a set of these strings as well as the Phosphor Bronze design through the Vine program and chose to this set out on a Seagull Artist Mosaic rather than on a Taylor, Martin or Gibson. The result is outstanding - So much so, that I am beginning to restring all 7 of my acoustic and acoustic-electric guitars with Elixers again.I have also tried the new Phosphor Bronze strings in this series on a Gibson and had fine results.  Because I did not use both sets of strings on the same guitar, it is not possible for me to really compare/contract the. These strings play as smoothly and easily as do the Phosphor Bronzes and seem to add a good deal of depth to the already resonant mellowness of the Seagull.Elixer definitely still has the edge. Thanks to Bob Taylor and his crew for collaborating on something that benefits all guitar players - no matter what it says on the head stocks of our instruments.\", '5.0', 'These Do Wonders For My Seagull!', '1404950400', '07 10, 2014']\n",
      "['A3M1PLEYNDEYO8', 'B00J4TBMVO', 'G. Thomas \"Tom\"', '[0, 0]', \"I can't speak on the claim for a longer string life.  The strings are true to Elixir's quality and tone.  These strings sound great plug and unplugged.  I also had the opportunity from Vine to try the phosphor bronze too.  There are tonal differences as expected.  The 80/20 are brighter, but the tones are clear and crisp.  When amplified, I did note less finger noise as I re-positioned or slid my fingers along the strings.  I didn't notice any difference to the feel of the string...as compared to other nanoweb Elixir strings that I have used over the years.  Time will tell if these strings last longer than their other versions.  For now, even if they only last as long as the other nanoweb ... you're still getting a good deal.\", '5.0', 'Great tone and less noise', '1405123200', '07 12, 2014']\n",
      "['A3KX8SVSUCSHKU', 'B00J4TBMVO', 'john', '[0, 0]', \"Great product with nice feel and tone. I'm only sorry I pre-ordered only two sets at $12.49. The average price now is $15 and over. I'll bite the bullet and order more after I wear these two sets out. Hopefully improved availability will lower the price by the time I need new strings. These are durable and long lasting. Recommeded.\", '5.0', 'Excellent strings - used on my Taylor', '1403740800', '06 26, 2014']\n",
      "['A1TSKKBNV38E8Y', 'B00J4TBMVO', 'K. Harriger \"K.R. Harriger\"', '[0, 0]', \"I have reviewed these strings before, and frankly, I wasn't all that impressed with the tone the first time around. I think they feel great on the fingertips and they're very playable, especially for a picker, but I just wasn't sold on the tone. To be fair, I only tested them on a few of my dreadnought guitars, and found them lacking. There seemed to be a drop-ff in tone when switching from my usual strings (Martin SPs) to these.So this time, I decided to try them on a much smaller guitar. I have a Yairi Alvarez AY-20, which is a 000 sized guitar, and they sound terrific. I'm no engineer or physicist, so I really can't explain the mechanics of it all, but they definitely sounded much better on a much smaller guitar body, and they produce a very clear, bright tone across the higher range, and hold their own on the low range.I still don't think they're the best thing since sliced bread, and I still think they're a bit overpriced, but I have no complaints about the quality other than the fact that the coating seems to wear off sooner than I would expect. This seems to have no effect on the tone, but for what these cost, you'd think the coating would last a lot longer than two months (I play daily for at least 30 minutes a day).Overall, these are good (but overpriced) strings that definitely work well on certain types of guitars. You'll just have to experiment to see which guitars sound good with them, and which don't. In my experience, large body guitars lose tone, but they sound great on a smaller body.\", '4.0', 'These sound great on some guitars, not so great on others...', '1404172800', '07 1, 2014']\n",
      "['A29B4PAIOL7HYG', 'B00J4TBMVO', 'N. Caruso \"gibsonjunkie\"', '[0, 0]', 'I had the opportunity to try a set of Elixir Nanoweb light gauge (.013 - .053) strings in both Phosphor Bronze and 80/20 Bronze. Instead of writing a separate review for each, I figured I&#8217;d write one review for both types of strings and post it in both places for those who are trying to figure out which strings would best meet their needs.The Phosphor Bronze strings are mounted on a brand new Guild F-47 RC guitar. It is a concert sized guitar with a Florentine cutaway. The body is Brazilian Rosewood and the top is Adirondack (Red) Spruce. I have always heard that Phosphor is a bit brighter and sounds better on a Rosewood guitar. I would agree. The tone is nicely balanced &#8211; maybe a bit weak in the bass, but the strings are new and in a couple days I expect them to sound a bit better.  The notes are articulated well, and there is a nice midrange tone.The Nanoweb coating is nice. It protects the strings from corrosion (finger sweat really can do a job on strings) without dulling the sound. I think the guitar sounds much better than it did with the original (Guild) strings, and it just plays easier.The 80/20 strings are mounted on a Gibson Hummingbird &#8211; an iconic Mahogany body/Spruce-topped Dreadnaught sized guitar. Again, 80/20s are recommended for Mahogany guitars. As popular as the Hummingbird is, I was never totally pleased with the sound of it.  It is a great guitar to strum along with while singing, but it almost sounded too muddied &#8211; not enough articulation between the different strings. The Elixir strings really bring out something extra from the Gibson. It sounds a LOT better and feels easier to play. The strings are easier to play &#8211; partially because of the coating &#8211; partially because the metal used in the string seems to have a bit more elasticity &#8211; without going out of tune.The bass is tighter and there is an even spread of tone from the lowest to the highest notes. I am very happy with how much better this guitar sounds with these strings compared to the Martin SPs that were on it prior to the switch.Elixirs are not the cheapest strings out there, but since they last a lot longer than cheaper strings, in the end you won&#8217;t spend more money on what I think are far superior strings.', '5.0', 'Great sounding and playing strings!', '1405728000', '07 19, 2014']\n",
      "['A3VDSGNIS92OVZ', 'B00J4TBMVO', 'P. Hamm \"p-squared\"', '[2, 2]', \"I was looking forward to trying these, as I've loved this company's product since day one.But I think they've messed around with the gauge, slapped a meaningless &#34;HD&#34; tag on, and added a few bucks to the price. More profit in someone's pocket for marketing jargon.I have a smaller-bodied guitar, so these should have, by their claim, given me better balance, but imho, the opposite happened. The bottom dropped out, the top end stopped sizzling, and the middle strings totally took over when I strum with a pick.When I play with fingers it's better, but not worth spending more money on than the normal .012s I've been using (which I think I liked a lot better).It's possible that these work great on the Taylor guitars they were ostensibly designed for (color me skeptical), but I'd say if you're happy with what you have, you need not try these.Again, long-time user and big fan, but paying extra money for a slightly different gauge and a silly &#34;HD&#34; moniker... no thanks.\", '2.0', \"I'm a BIG Fan of Elixir Strings... But...\", '1403568000', '06 24, 2014']\n",
      "['A146H4KN4LFR60', 'B00JBIVXGC', 'angelfood', '[0, 0]', \"I put these strings on my Guild acoustic electric. I play mainly rhythm guitar to accompany my singing and do a bit of fingerpicking.The warmth of phosphor bronze strings suits my style and these strings have a great tone with crisp high notes and full rich bass ends.They are made by Taylor and all Taylor guitars come with Elixir strings. Saving up for a Taylor, in the meantime, at least I can afford the strings!These are very good long-lasting strings. To me, D'addario are just as good. Things like strings and picks are subjective. Try different brands to find what suits you best. If you are a serious player with a good guitar you should definitely check these strings out.\", '5.0', 'Your Guitar Wants These Strings', '1405036800', '07 11, 2014']\n",
      "['A3A7Y3TSPPZU9T', 'B00JBIVXGC', 'coffeebrain', '[0, 0]', 'I ordered this for my husband, the musician.  He said these are high quality strings giving great tone and good feel.  He would definitely purchase this product again.', '5.0', 'Great Strings', '1403395200', '06 22, 2014']\n",
      "['A30J7WQV0ZNRXG', 'B00JBIVXGC', 'D. Reinstein \"marindavid\"', '[0, 0]', 'I had used Elixer strings for several years on both 6 and 12 string guitars. Somehow, I had gravitated over to Martin PB about a year ago (when I acquired a new Martin... Surprise!) I got a set of these strings through the Vine program and chose to try them out on a Gibson Songwriter Studio Deluxe CE RATHER than on a Taylor or Martin. The result is outstanding - So much so, that I am beginning to restring all 7 of my acoustic and acoustic-electric guitars with Elixers again.They are even smoother and easier to play that I remembered them. Of course, these new strings have improved the technology which becomes more and more important to me as my fingers age right along with the rest of my body. The sound is sweet and warm and the Gibson has never sounded better - played plugged-in or unplugged.Elixer definitely still has the edge. Thanks to Bob Taylor and his crew for collaborating on something that benefits all guitar players - no matter what it says on the head stocks of our instruments.', '5.0', 'Great On A Gibson, Too!', '1404950400', '07 10, 2014']\n",
      "['A3M1PLEYNDEYO8', 'B00JBIVXGC', 'G. Thomas \"Tom\"', '[0, 0]', \"True to phosphor bronze these strings have a mellow and full sound.  You still get finger noise as you slide your fingers when setting up for the next chord, but the noise is somewhat less. I have used other Elixir nonweb coated strings and these strings are in par with them.  I can't speak to the string life.  The boast of these strings is that will last 3 to 5 times longer, and if that is the case, I will run out of time to submit my feedback.  So far now, they sound great, feel great...and if they don't last as long as the other Elixirs, you'll still come out ahead since they shouldn't cost any more.\", '5.0', 'they sound great, feel great', '1404172800', '07 1, 2014']\n",
      "['A1SD1C8XK3Z3V1', 'B00JBIVXGC', 'guitfiddleblue \"guitfiddleblue\"', '[0, 0]', \"I've used Elixirs for about five years now. This set offers the same great sound for my acoustic as their electric strings provide for my electric. Some people don't like the polymer (nanoweb) that coats the string, but I find that it cuts back on string noise. Sliding your fingers around doesn't cause too much noise, and with acoustic strings I find that very important, especially if you're using a piezo pickup in your instrument. Phosphor Bronze has always been a great alloy for acoustic guitars IMHO. These are great strings, worth the money, and sound great. They also last 3 times longer than regular, non-coated strings in my experience (been playing for 24yrs). Great product.\", '5.0', 'Elixirs just sound good', '1404086400', '06 30, 2014']\n",
      "['A2VRAT69JDAD3W', 'B00JBIVXGC', 'Jason Whitt \"Whittmeister\"', '[0, 0]', \"I'm a D'Addario man myself, but hey free is free.  So I jumped at a chance to try these strings out.  Thus far they have proven durable both in terms of playability and longevity of tone.  So many other variables to consider when rating strings such as the guitar they go on, the gauge of string being used, the playing style and climate of the end user, etc.  These are a solid performing string set, though I am unlikely to switch allegiances from D'Addario any time soon.  Still there is no reason to fear trying these Elixir's out.\", '4.0', \"I'm a D'Addario man myself, but hey free is ...\", '1405900800', '07 21, 2014']\n",
      "['A306NASGVUDFKF', 'B00JBIVXGC', 'Jeffrey E \"jeffinaustintx\"', '[0, 0]', \"I really like these strings.  While they are not quite as bright sounding as uncoated strings, they still sound better than many other strings, AND they last so much longer.  They will easily out last a set of uncoated strings by at least 2x... probably closer to 3x.  Nice tactile feel on the right hand with reduced squeak as you move up & down the neck.Bottom line is Elixir's sound great, play well and least a really long time.\", '5.0', 'I really like these strings', '1404432000', '07 4, 2014']\n",
      "['A1TSKKBNV38E8Y', 'B00JBIVXGC', 'K. Harriger \"K.R. Harriger\"', '[0, 0]', \"I have lots of friends who play these strings. Some love them more than any other string, and some are like me. They're clearly good strings, and I love the way they play and feel on my fingertips, but I can't get past the sound. It could just be about how the strings sound on my particular guitars, but in any case, I'm not happy with the sound and that's why I have a hard time giving them a solid five-star rating.I tried these on two separate guitars I play regularly, and wasn't terribly impressed with the sound on either. One is a vintage dreadnought mahogany guitar that normally has excellent tone, and is crisp, clear and fairly loud. These strings softened the tone, which I wasn't looking to do. They sound okay, but nowhere near as good as the Martin SPs I use to really bring out the best in that guitar.I also have a cutaway electric/acoustic I use to sing with because it's fairly quiet, and the softer tones don't drown out my voice. These strings made the guitar even more quiet, and there was a considerable drop-off in tone quality as well. They might have been cheap, old strings, because I couldn't tell that there was anything special about them. This particular guitar didn't have spectacular sound to begin with, and these strings did nothing to improve it. I like strings to either sound as good as other strings, or improve the tone and pull more from the guitar. These strings did neither for me. However, they sound just great when the instrument was plugged through an amp.Based upon my experimentation, I would guess that if you have a great sounding guitar and you're not a fanatic about slight drops in tonal quality, you'll love the way these strings feel and play. I rate them excellent in that category. But for me, tone is 80% of the equation. I'd play wire-wrapped rope if it sounded better than regular strings. In the tonal category, these strings fell short. On a guitar with excellent tone, I noticed a distinct drop in tone quality, and on another softer, more muted guitar, tone quality vanished.In the final analysis, if you're a picker and your guitar can be plugged in, you'll love these strings. If you're really into great acoustic tone and your guitar doesn't have stellar tone to begin with, you might gain some 'playability,' but you will most likely experience a slight drop in tonal quality.\", '3.0', 'Hmmm.... I like them, but with a lot of reservations.', '1403654400', '06 25, 2014']\n",
      "['A14B2YH83ZXMPP', 'B00JBIVXGC', 'Lonnie M. Adams', '[0, 0]', 'Great, just as expected.  Thank to all.', '5.0', 'Five Stars', '1405814400', '07 20, 2014']\n",
      "['A1RPTVW5VEOSI', 'B00JBIVXGC', 'Michael J. Edelman', '[0, 0]', 'I\\'ve been thinking about trying the Nanoweb strings for a while, but I was a bit put off by the high price (they cost about twice as much as the uncharted strings I\\'ve been buying)  and the comments of some reviewers that the tone of coated strings is noticeably duller. I was intrigued by the promise of long life, though; I have a Taylor Big Baby that I bought used, and which came with a set of Nanowebs that had probably been on it for a year- and they didn\\'t sound at all like old strings. This review set gave me a chance to finally see for myself how they sound when new.I\\'d just changed the strings on my 1970s Gibson Gospel a week ago, so I decided that would be my reference. The Nanowebs went on my 1970s Guild D-35. Both are well broken in, solid spruce top guitars. The Gospel is a bit brighter sounding, but I\\'m pretty familiar with the sound of both guitars. If they D-35 sounded dull, I\\'d notice.As I was unwrapping the Nanowebs I noticed that while they were labeled \"Light\" gauge, they had a 0.013\" E string- something you\\'d be more likely to find on a set of medium gauge strings. The B was a .017, compared to the .016 of the D\\'Addarios I usually play. The rest of the strings were there usual light gauges. Turns out that these are \"HD Light\" gauge, designed to have a slightly more tension and better articulation at the high end. The difference shouldn\\'t be enough to require any truss rod adjustment so I went ahead and installed them on the D-35.So how do they sound? The unwound E and B don\\'t sound different from any other plain steel string, of course. The E does feel a tiny bit stiffer, when I switch between the D-35 and the Gospel. Sound-wise, I\\'d say they sound like a good set that have been on a guitar for a day. I wouldn\\'t call them dull by any stretch of the imagination. If I didn\\'t know that they were coated strings I certainly wouldn\\'t be able to tell from playing them. So they\\'re good sounding strings, and they last a long time. That leaves the question of cost- are they worth twice the price of uncoated strings?Here\\'s the way I see it: If you\\'re a heavy strummer, or playing gigs every night, maybe not. You\\'re probably breaking strings or losing them to metal fatigue long before they\\'d go dull from corrosion or contamination. But if you\\'re a finger picker, or a light strummer, a coated string will probably save you a lot of money in the long run. And if you\\'re a hobby player who keeps a guitar around the house, and picks it up once in a while to entertain friends or family, coated strings are probably an excellent choice. For myself, I\\'m going to leave these on the D-35 for as long as they still sound good. I\\'ll update this review when I find out just how long they do last.Follow up: After playing these for a few days, I actually went out and bought a set in the same gauge for my Loar LH-350, an arch top guitar with a carved top that gets played more than any of my other guitars. They sound great on the Loar, and now I have two guitars to do a long term test on.', '5.0', 'Long life, and for some players, a good economic choice, too', '1404259200', '07 2, 2014']\n",
      "['AWCJ12KBO5VII', 'B00JBIVXGC', 'Michael L. Knapp', '[0, 0]', \"I have tried coated strings in the past ( including Elixirs) and have never been very fond of them. Whenever I tried them I felt a certain disconnect from my guitar. Somewhat reminiscent of wearing condom. Not that I hated them, just didn't really love them. These are the best ones I've tried so far. I still don't like them as much as regular strings but because of the type of gigs I mostly do these seem to be a reasonable trade off. If you need a longer lasting string for whatever the reason these are really the best out there. After a dozen or so gigs with them, they still sound the same as when I put them on.\", '4.0', 'Good for coated.', '1405987200', '07 22, 2014']\n",
      "['A2Z7S8B5U4PAKJ', 'B00JBIVXGC', 'Rick Langdon \"Scriptor\"', '[0, 0]', \"Well, MADE by Elixir and DEVELOPED with Taylor Guitars ... these strings were designed for the new 800 (Rosewood) series guitars that came out this year (2014) ... the promise is a &#34;bolder high end, fuller low end&#34; ... I am a long-time Taylor owner and favor their 800 series (Rosewood/Spruce is my favorite combo in tone woods) ... I have almost always used Elixir Nanoweb Phosphor Bronze lights on my guitars ... I like not only the tone but the feel and longevity of these strings ... I have never had any issues with Elixir Nanowebs ... I recently picked up an 812ce First Edition 12-Fret ... such a fine instrument and it came with the Elixir HD's ... took some getting used to as far as feel (due to the slightly higher gauges of the treble strings - E, B & G) ... but as far as sound, they are great ... the D, A & low E strings are no different from the regular Elixir PB Lights so I am not sure about the claim of &#34;fuller low end&#34; ... compared to what?  Unless the extra string tension of the treble strings also contributes to a little more bass response ... I am not sure how these strings will perform on guitars other than Taylor's but what anyone should notice is more volume and clarity from the treble strings ... that is what I notice most from the HD's compared to the regular ... I still find no fault with the regular Elixir Nanaweb PB's but will most likely continue to run the HD's on my 12-fret ... I may also try them on my older 814ce just to see if there is any difference/improvement ... so far I find the set well balanced with good clarity and sustain ... try them out and make your own decision ...\", '4.0', 'Taylor Made', '1404172800', '07 1, 2014']\n",
      "['A2WA8TDCTGUADI', 'B00JBIVXGC', 'TheTerrorBeyond', '[0, 0]', \"These strings are really quite good, but I wouldn't call them perfect.  The unwound strings are not quite as bright as I am accustomed to, but they still ring nicely.  This is the only complaint I have about these strings.  If the unwound strings were a tiny bit brighter, these would be 5-star strings.  As it stands, I give them 4.5 stars... not a big knock, actually.The low-end on the wound strings is very nice and quite warm.  I put these on a jumbo and it definitely accentuates the &#34;jumbo&#34; aspect of my acoustic.  The sound is very big, full, and nice.Definitely a recommended product!4.5/5 stars\", '4.0', \"These strings are really quite good, but I wouldn't call them perfect\", '1405468800', '07 16, 2014']\n"
     ]
    }
   ],
   "source": [
    "# Importing the csv module\n",
    "import csv\n",
    "# Opening the csv file in read mode\n",
    "with open('Musical_instruments_reviews.csv', 'r') as file:\n",
    "    # Creating a csv reader object\n",
    "    reader = csv.reader(file)\n",
    "    # Looping through each row in the file\n",
    "    for row in reader:\n",
    "        # Printing the row as a list\n",
    "        print(row)"
   ]
  },
  {
   "cell_type": "code",
   "execution_count": 9,
   "id": "4619ebd2",
   "metadata": {},
   "outputs": [],
   "source": [
    "import numpy as np\n",
    "import pandas as pd\n",
    "from collections import Counter\n",
    "from sklearn.model_selection import train_test_split\n",
    "from sklearn.linear_model import LogisticRegression\n",
    "from sklearn.metrics import accuracy_score, classification_report\n",
    "from sklearn.datasets import load_files"
   ]
  },
  {
   "cell_type": "code",
   "execution_count": 54,
   "id": "b09866a0",
   "metadata": {},
   "outputs": [],
   "source": [
    "# Function to calculate TF-IDF\n",
    "def calculate_tfidf(docs):\n",
    "    # Ensure all elements in docs are strings\n",
    "    docs = [str(doc) for doc in docs]\n",
    "\n",
    "    # Calculate term frequency (TF)\n",
    "    tf = [Counter(doc.split()) for doc in docs]\n",
    "\n",
    "    # Calculate inverse document frequency (IDF)\n",
    "    idf = {}\n",
    "    for doc in tf:\n",
    "        for term in doc:\n",
    "            idf[term] = idf.get(term, 0) + 1\n",
    "\n",
    "    idf = {term: np.log(len(docs) / freq) for term, freq in idf.items()}\n",
    "\n",
    "    # Calculate TF-IDF\n",
    "    tfidf = []\n",
    "    for doc in tf:\n",
    "        tfidf.append({term: tf_val * idf[term] for term, tf_val in doc.items()})\n",
    "\n",
    "    return tfidf"
   ]
  },
  {
   "cell_type": "code",
   "execution_count": null,
   "id": "798dc7de",
   "metadata": {},
   "outputs": [],
   "source": [
    "import seaborn as sns\n",
    "from sklearn.preprocessing import MinMaxScaler\n",
    "import pandas as pd\n",
    "\n",
    "data = sns.load_dataset('iris')\n",
    "print('Original Dataset')\n",
    "data.head()\n",
    "\n",
    "scaler = MinMaxScaler()\n",
    "\n",
    "df_scaled = scaler.fit_transform(df.to_numpy())\n",
    "df_scaled = pd.DataFrame(df_scaled, columns=[\n",
    "'sepal_length', 'sepal_width', 'petal_length', 'petal_width'])\n",
    "\n",
    "print(\"Scaled Dataset Using MinMaxScaler\")\n",
    "df_scaled.head()\n"
   ]
  },
  {
   "cell_type": "code",
   "execution_count": 55,
   "id": "6340d29d",
   "metadata": {},
   "outputs": [
    {
     "data": {
      "text/html": [
       "<div>\n",
       "<style scoped>\n",
       "    .dataframe tbody tr th:only-of-type {\n",
       "        vertical-align: middle;\n",
       "    }\n",
       "\n",
       "    .dataframe tbody tr th {\n",
       "        vertical-align: top;\n",
       "    }\n",
       "\n",
       "    .dataframe thead th {\n",
       "        text-align: right;\n",
       "    }\n",
       "</style>\n",
       "<table border=\"1\" class=\"dataframe\">\n",
       "  <thead>\n",
       "    <tr style=\"text-align: right;\">\n",
       "      <th></th>\n",
       "      <th>reviewerID</th>\n",
       "      <th>asin</th>\n",
       "      <th>reviewerName</th>\n",
       "      <th>helpful</th>\n",
       "      <th>reviewText</th>\n",
       "      <th>overall</th>\n",
       "      <th>summary</th>\n",
       "      <th>unixReviewTime</th>\n",
       "      <th>reviewTime</th>\n",
       "    </tr>\n",
       "  </thead>\n",
       "  <tbody>\n",
       "    <tr>\n",
       "      <th>0</th>\n",
       "      <td>A2IBPI20UZIR0U</td>\n",
       "      <td>1384719342</td>\n",
       "      <td>cassandra tu \"Yeah, well, that's just like, u...</td>\n",
       "      <td>[0, 0]</td>\n",
       "      <td>Not much to write about here, but it does exac...</td>\n",
       "      <td>5.0</td>\n",
       "      <td>good</td>\n",
       "      <td>1393545600</td>\n",
       "      <td>02 28, 2014</td>\n",
       "    </tr>\n",
       "    <tr>\n",
       "      <th>1</th>\n",
       "      <td>A14VAT5EAX3D9S</td>\n",
       "      <td>1384719342</td>\n",
       "      <td>Jake</td>\n",
       "      <td>[13, 14]</td>\n",
       "      <td>The product does exactly as it should and is q...</td>\n",
       "      <td>5.0</td>\n",
       "      <td>Jake</td>\n",
       "      <td>1363392000</td>\n",
       "      <td>03 16, 2013</td>\n",
       "    </tr>\n",
       "    <tr>\n",
       "      <th>2</th>\n",
       "      <td>A195EZSQDW3E21</td>\n",
       "      <td>1384719342</td>\n",
       "      <td>Rick Bennette \"Rick Bennette\"</td>\n",
       "      <td>[1, 1]</td>\n",
       "      <td>The primary job of this device is to block the...</td>\n",
       "      <td>5.0</td>\n",
       "      <td>It Does The Job Well</td>\n",
       "      <td>1377648000</td>\n",
       "      <td>08 28, 2013</td>\n",
       "    </tr>\n",
       "    <tr>\n",
       "      <th>3</th>\n",
       "      <td>A2C00NNG1ZQQG2</td>\n",
       "      <td>1384719342</td>\n",
       "      <td>RustyBill \"Sunday Rocker\"</td>\n",
       "      <td>[0, 0]</td>\n",
       "      <td>Nice windscreen protects my MXL mic and preven...</td>\n",
       "      <td>5.0</td>\n",
       "      <td>GOOD WINDSCREEN FOR THE MONEY</td>\n",
       "      <td>1392336000</td>\n",
       "      <td>02 14, 2014</td>\n",
       "    </tr>\n",
       "    <tr>\n",
       "      <th>4</th>\n",
       "      <td>A94QU4C90B1AX</td>\n",
       "      <td>1384719342</td>\n",
       "      <td>SEAN MASLANKA</td>\n",
       "      <td>[0, 0]</td>\n",
       "      <td>This pop filter is great. It looks and perform...</td>\n",
       "      <td>5.0</td>\n",
       "      <td>No more pops when I record my vocals.</td>\n",
       "      <td>1392940800</td>\n",
       "      <td>02 21, 2014</td>\n",
       "    </tr>\n",
       "  </tbody>\n",
       "</table>\n",
       "</div>"
      ],
      "text/plain": [
       "       reviewerID        asin  \\\n",
       "0  A2IBPI20UZIR0U  1384719342   \n",
       "1  A14VAT5EAX3D9S  1384719342   \n",
       "2  A195EZSQDW3E21  1384719342   \n",
       "3  A2C00NNG1ZQQG2  1384719342   \n",
       "4   A94QU4C90B1AX  1384719342   \n",
       "\n",
       "                                       reviewerName   helpful  \\\n",
       "0  cassandra tu \"Yeah, well, that's just like, u...    [0, 0]   \n",
       "1                                              Jake  [13, 14]   \n",
       "2                     Rick Bennette \"Rick Bennette\"    [1, 1]   \n",
       "3                         RustyBill \"Sunday Rocker\"    [0, 0]   \n",
       "4                                     SEAN MASLANKA    [0, 0]   \n",
       "\n",
       "                                          reviewText  overall  \\\n",
       "0  Not much to write about here, but it does exac...      5.0   \n",
       "1  The product does exactly as it should and is q...      5.0   \n",
       "2  The primary job of this device is to block the...      5.0   \n",
       "3  Nice windscreen protects my MXL mic and preven...      5.0   \n",
       "4  This pop filter is great. It looks and perform...      5.0   \n",
       "\n",
       "                                 summary  unixReviewTime   reviewTime  \n",
       "0                                   good      1393545600  02 28, 2014  \n",
       "1                                   Jake      1363392000  03 16, 2013  \n",
       "2                   It Does The Job Well      1377648000  08 28, 2013  \n",
       "3          GOOD WINDSCREEN FOR THE MONEY      1392336000  02 14, 2014  \n",
       "4  No more pops when I record my vocals.      1392940800  02 21, 2014  "
      ]
     },
     "execution_count": 55,
     "metadata": {},
     "output_type": "execute_result"
    }
   ],
   "source": [
    "df = pd.read_csv('Musical_instruments_reviews.csv')\n",
    "df.head()"
   ]
  },
  {
   "cell_type": "code",
   "execution_count": 56,
   "id": "aacd5e6d",
   "metadata": {},
   "outputs": [],
   "source": [
    "X= df['reviewText']\n",
    "y=df['overall']"
   ]
  },
  {
   "cell_type": "code",
   "execution_count": 68,
   "id": "a7d0539d",
   "metadata": {},
   "outputs": [
    {
     "name": "stdout",
     "output_type": "stream",
     "text": [
      "(5130,) (5130,)\n"
     ]
    }
   ],
   "source": [
    "X_train, X_test, y_train, y_test = train_test_split(X, y, test_size=0.5, random_state=42)\n",
    "print(X_train.shape, y_train.shape)"
   ]
  },
  {
   "cell_type": "code",
   "execution_count": 58,
   "id": "70c02628",
   "metadata": {},
   "outputs": [
    {
     "data": {
      "text/plain": [
       "1601    I used it to hold down the strings on my bass ...\n",
       "9847    They work great with my pedals! Not sure if it...\n",
       "1269    Fast shipping and love this handy little tool,...\n",
       "128     Works just fine, great for little spaces betwe...\n",
       "6226    Tone is subjective. I have little experience w...\n",
       "                              ...                        \n",
       "5734    A year ago, I wrote a lengthy comparison of th...\n",
       "5191    Okay well I lied in subject line, bad singers ...\n",
       "5390    This mic is strong, reliable and produces the ...\n",
       "860     I'm an Irish-style DADGAD guitarist.  These pi...\n",
       "7270    This is a great little amp especially for the ...\n",
       "Name: reviewText, Length: 5130, dtype: object"
      ]
     },
     "execution_count": 58,
     "metadata": {},
     "output_type": "execute_result"
    }
   ],
   "source": [
    "X_train"
   ]
  },
  {
   "cell_type": "code",
   "execution_count": 59,
   "id": "003e01c6",
   "metadata": {},
   "outputs": [
    {
     "data": {
      "text/plain": [
       "1601    5.0\n",
       "9847    4.0\n",
       "1269    5.0\n",
       "128     4.0\n",
       "6226    5.0\n",
       "       ... \n",
       "5734    5.0\n",
       "5191    5.0\n",
       "5390    5.0\n",
       "860     4.0\n",
       "7270    5.0\n",
       "Name: overall, Length: 5130, dtype: float64"
      ]
     },
     "execution_count": 59,
     "metadata": {},
     "output_type": "execute_result"
    }
   ],
   "source": [
    "y_train"
   ]
  },
  {
   "cell_type": "code",
   "execution_count": 60,
   "id": "08f6441a",
   "metadata": {},
   "outputs": [
    {
     "data": {
      "text/plain": [
       "2507    I've been using these on my acoustic guitars (...\n",
       "5159    Sounds like a great concept and they seem well...\n",
       "932     I recently ordered a wide variety of picks to ...\n",
       "1190    I have two of these stands, the electric guita...\n",
       "2619    This guitar sounds awesome and stays in tune v...\n",
       "                              ...                        \n",
       "4947    The pedal works as described. The draw back is...\n",
       "9210    I don't know why others rated it as a 4 star. ...\n",
       "4244    There's nothing not to like about this capo.  ...\n",
       "7267    I should start by saying that I did not buy th...\n",
       "4765    This bench is great for the keyboards and when...\n",
       "Name: reviewText, Length: 5131, dtype: object"
      ]
     },
     "execution_count": 60,
     "metadata": {},
     "output_type": "execute_result"
    }
   ],
   "source": [
    "X_test"
   ]
  },
  {
   "cell_type": "code",
   "execution_count": 61,
   "id": "fe8706b9",
   "metadata": {},
   "outputs": [],
   "source": [
    "# Calculate TF-IDF for training and testing sets\n",
    "X_train_tfidf = calculate_tfidf(X_train)\n",
    "X_test_tfidf = calculate_tfidf(X_test)"
   ]
  },
  {
   "cell_type": "code",
   "execution_count": 62,
   "id": "7f2e53c4",
   "metadata": {},
   "outputs": [],
   "source": [
    "# Convert TF-IDF to vectors\n",
    "def tfidf_to_vectors(tfidf, vocabulary):\n",
    "    vectors = []\n",
    "    for doc_tfidf in tfidf:\n",
    "        vector = [doc_tfidf.get(term, 0) for term in vocabulary]\n",
    "        vectors.append(vector)\n",
    "    return np.array(vectors)"
   ]
  },
  {
   "cell_type": "code",
   "execution_count": 63,
   "id": "3cf9ae04",
   "metadata": {},
   "outputs": [],
   "source": [
    "# Create a vocabulary\n",
    "vocabulary = set(term for doc_tfidf in X_train_tfidf for term in doc_tfidf)"
   ]
  },
  {
   "cell_type": "code",
   "execution_count": 64,
   "id": "54a70b47",
   "metadata": {},
   "outputs": [],
   "source": [
    "# Convert TF-IDF to vectors using the vocabulary\n",
    "X_train_vectors = tfidf_to_vectors(X_train_tfidf, vocabulary)\n",
    "X_test_vectors = tfidf_to_vectors(X_test_tfidf, vocabulary)\n"
   ]
  },
  {
   "cell_type": "code",
   "execution_count": 65,
   "id": "15c632ed",
   "metadata": {},
   "outputs": [
    {
     "name": "stderr",
     "output_type": "stream",
     "text": [
      "C:\\ProgramData\\anaconda3\\Lib\\site-packages\\sklearn\\linear_model\\_logistic.py:460: ConvergenceWarning: lbfgs failed to converge (status=1):\n",
      "STOP: TOTAL NO. of ITERATIONS REACHED LIMIT.\n",
      "\n",
      "Increase the number of iterations (max_iter) or scale the data as shown in:\n",
      "    https://scikit-learn.org/stable/modules/preprocessing.html\n",
      "Please also refer to the documentation for alternative solver options:\n",
      "    https://scikit-learn.org/stable/modules/linear_model.html#logistic-regression\n",
      "  n_iter_i = _check_optimize_result(\n"
     ]
    },
    {
     "data": {
      "text/html": [
       "<style>#sk-container-id-1 {color: black;}#sk-container-id-1 pre{padding: 0;}#sk-container-id-1 div.sk-toggleable {background-color: white;}#sk-container-id-1 label.sk-toggleable__label {cursor: pointer;display: block;width: 100%;margin-bottom: 0;padding: 0.3em;box-sizing: border-box;text-align: center;}#sk-container-id-1 label.sk-toggleable__label-arrow:before {content: \"▸\";float: left;margin-right: 0.25em;color: #696969;}#sk-container-id-1 label.sk-toggleable__label-arrow:hover:before {color: black;}#sk-container-id-1 div.sk-estimator:hover label.sk-toggleable__label-arrow:before {color: black;}#sk-container-id-1 div.sk-toggleable__content {max-height: 0;max-width: 0;overflow: hidden;text-align: left;background-color: #f0f8ff;}#sk-container-id-1 div.sk-toggleable__content pre {margin: 0.2em;color: black;border-radius: 0.25em;background-color: #f0f8ff;}#sk-container-id-1 input.sk-toggleable__control:checked~div.sk-toggleable__content {max-height: 200px;max-width: 100%;overflow: auto;}#sk-container-id-1 input.sk-toggleable__control:checked~label.sk-toggleable__label-arrow:before {content: \"▾\";}#sk-container-id-1 div.sk-estimator input.sk-toggleable__control:checked~label.sk-toggleable__label {background-color: #d4ebff;}#sk-container-id-1 div.sk-label input.sk-toggleable__control:checked~label.sk-toggleable__label {background-color: #d4ebff;}#sk-container-id-1 input.sk-hidden--visually {border: 0;clip: rect(1px 1px 1px 1px);clip: rect(1px, 1px, 1px, 1px);height: 1px;margin: -1px;overflow: hidden;padding: 0;position: absolute;width: 1px;}#sk-container-id-1 div.sk-estimator {font-family: monospace;background-color: #f0f8ff;border: 1px dotted black;border-radius: 0.25em;box-sizing: border-box;margin-bottom: 0.5em;}#sk-container-id-1 div.sk-estimator:hover {background-color: #d4ebff;}#sk-container-id-1 div.sk-parallel-item::after {content: \"\";width: 100%;border-bottom: 1px solid gray;flex-grow: 1;}#sk-container-id-1 div.sk-label:hover label.sk-toggleable__label {background-color: #d4ebff;}#sk-container-id-1 div.sk-serial::before {content: \"\";position: absolute;border-left: 1px solid gray;box-sizing: border-box;top: 0;bottom: 0;left: 50%;z-index: 0;}#sk-container-id-1 div.sk-serial {display: flex;flex-direction: column;align-items: center;background-color: white;padding-right: 0.2em;padding-left: 0.2em;position: relative;}#sk-container-id-1 div.sk-item {position: relative;z-index: 1;}#sk-container-id-1 div.sk-parallel {display: flex;align-items: stretch;justify-content: center;background-color: white;position: relative;}#sk-container-id-1 div.sk-item::before, #sk-container-id-1 div.sk-parallel-item::before {content: \"\";position: absolute;border-left: 1px solid gray;box-sizing: border-box;top: 0;bottom: 0;left: 50%;z-index: -1;}#sk-container-id-1 div.sk-parallel-item {display: flex;flex-direction: column;z-index: 1;position: relative;background-color: white;}#sk-container-id-1 div.sk-parallel-item:first-child::after {align-self: flex-end;width: 50%;}#sk-container-id-1 div.sk-parallel-item:last-child::after {align-self: flex-start;width: 50%;}#sk-container-id-1 div.sk-parallel-item:only-child::after {width: 0;}#sk-container-id-1 div.sk-dashed-wrapped {border: 1px dashed gray;margin: 0 0.4em 0.5em 0.4em;box-sizing: border-box;padding-bottom: 0.4em;background-color: white;}#sk-container-id-1 div.sk-label label {font-family: monospace;font-weight: bold;display: inline-block;line-height: 1.2em;}#sk-container-id-1 div.sk-label-container {text-align: center;}#sk-container-id-1 div.sk-container {/* jupyter's `normalize.less` sets `[hidden] { display: none; }` but bootstrap.min.css set `[hidden] { display: none !important; }` so we also need the `!important` here to be able to override the default hidden behavior on the sphinx rendered scikit-learn.org. See: https://github.com/scikit-learn/scikit-learn/issues/21755 */display: inline-block !important;position: relative;}#sk-container-id-1 div.sk-text-repr-fallback {display: none;}</style><div id=\"sk-container-id-1\" class=\"sk-top-container\"><div class=\"sk-text-repr-fallback\"><pre>LogisticRegression()</pre><b>In a Jupyter environment, please rerun this cell to show the HTML representation or trust the notebook. <br />On GitHub, the HTML representation is unable to render, please try loading this page with nbviewer.org.</b></div><div class=\"sk-container\" hidden><div class=\"sk-item\"><div class=\"sk-estimator sk-toggleable\"><input class=\"sk-toggleable__control sk-hidden--visually\" id=\"sk-estimator-id-1\" type=\"checkbox\" checked><label for=\"sk-estimator-id-1\" class=\"sk-toggleable__label sk-toggleable__label-arrow\">LogisticRegression</label><div class=\"sk-toggleable__content\"><pre>LogisticRegression()</pre></div></div></div></div></div>"
      ],
      "text/plain": [
       "LogisticRegression()"
      ]
     },
     "execution_count": 65,
     "metadata": {},
     "output_type": "execute_result"
    }
   ],
   "source": [
    "# Train logistic regression model\n",
    "logistic_regression_model = LogisticRegression()\n",
    "logistic_regression_model.fit(X_train_vectors, y_train)"
   ]
  },
  {
   "cell_type": "code",
   "execution_count": 66,
   "id": "63b6ac08",
   "metadata": {},
   "outputs": [],
   "source": [
    "# Make predictions on the test set\n",
    "predictions = logistic_regression_model.predict(X_test_vectors)"
   ]
  },
  {
   "cell_type": "code",
   "execution_count": 67,
   "id": "9480c1d2",
   "metadata": {},
   "outputs": [
    {
     "name": "stdout",
     "output_type": "stream",
     "text": [
      "Accuracy: 0.64\n",
      "Classification Report:\n",
      "               precision    recall  f1-score   support\n",
      "\n",
      "         1.0       0.27      0.03      0.05       113\n",
      "         2.0       0.27      0.03      0.06       116\n",
      "         3.0       0.32      0.13      0.19       395\n",
      "         4.0       0.31      0.24      0.27      1056\n",
      "         5.0       0.73      0.86      0.79      3451\n",
      "\n",
      "    accuracy                           0.64      5131\n",
      "   macro avg       0.38      0.26      0.27      5131\n",
      "weighted avg       0.59      0.64      0.60      5131\n",
      "\n"
     ]
    }
   ],
   "source": [
    "# Evaluate the model\n",
    "accuracy = accuracy_score(y_test, predictions)\n",
    "classification_report_result = classification_report(y_test, predictions)\n",
    "\n",
    "print(f\"Accuracy: {accuracy:.2f}\")\n",
    "print(\"Classification Report:\\n\", classification_report_result)"
   ]
  },
  {
   "cell_type": "code",
   "execution_count": null,
   "id": "e1cab6e7",
   "metadata": {},
   "outputs": [],
   "source": []
  }
 ],
 "metadata": {
  "kernelspec": {
   "display_name": "Python 3 (ipykernel)",
   "language": "python",
   "name": "python3"
  },
  "language_info": {
   "codemirror_mode": {
    "name": "ipython",
    "version": 3
   },
   "file_extension": ".py",
   "mimetype": "text/x-python",
   "name": "python",
   "nbconvert_exporter": "python",
   "pygments_lexer": "ipython3",
   "version": "3.11.5"
  }
 },
 "nbformat": 4,
 "nbformat_minor": 5
}
