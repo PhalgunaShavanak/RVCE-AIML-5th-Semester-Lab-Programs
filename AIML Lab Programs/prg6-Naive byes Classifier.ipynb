{
 "cells": [
  {
   "cell_type": "code",
   "execution_count": 4,
   "id": "5756cf49",
   "metadata": {},
   "outputs": [
    {
     "name": "stdout",
     "output_type": "stream",
     "text": [
      "Gender\n",
      "Age\n",
      "EstimatedSalary\n",
      "accuracy: 0.8625\n",
      "precision: 0.8260869565217391\n",
      "recall: 0.7307692307692307\n",
      "f1 score: 0.7755102040816326\n",
      "              precision    recall  f1-score   support\n",
      "\n",
      "           0       0.88      0.93      0.90        54\n",
      "           1       0.83      0.73      0.78        26\n",
      "\n",
      "    accuracy                           0.86        80\n",
      "   macro avg       0.85      0.83      0.84        80\n",
      "weighted avg       0.86      0.86      0.86        80\n",
      "\n"
     ]
    },
    {
     "data": {
      "text/plain": [
       "[0]"
      ]
     },
     "execution_count": 4,
     "metadata": {},
     "output_type": "execute_result"
    }
   ],
   "source": [
    "import numpy as np\n",
    "import pandas as pd\n",
    "class NaiveBayes:\n",
    "    def __init__(self):\n",
    "        self.class_prob={}\n",
    "        self.feature_prob={}\n",
    "    \n",
    "    def fit(self,x,y):\n",
    "        classes,counts=np.unique(y,return_counts=True)\n",
    "        total=len(y)\n",
    "        for c,count in zip(classes,counts):\n",
    "            self.class_prob[c]=count/total\n",
    "        \n",
    "        for c in classes:\n",
    "            self.feature_prob[c]={}\n",
    "            for feature in x.columns:\n",
    "                unique_values=x[feature].unique()\n",
    "                self.feature_prob[c][feature]={}\n",
    "                for value in unique_values:\n",
    "                    count=np.sum((x[feature]==value) & (y==c))\n",
    "                    self.feature_prob[c][feature][value]=count/counts[c]\n",
    "    \n",
    "    def predict(self,x):\n",
    "        predictions=[]\n",
    "        for _,row in x.iterrows():\n",
    "            max_prob=-1\n",
    "            predicted_class=None\n",
    "            for c in self.class_prob:\n",
    "                prob=self.class_prob[c]\n",
    "                for feature in x:\n",
    "                    value=row[feature]\n",
    "                    if(value in self.feature_prob[c][feature]):\n",
    "                        prob*=self.feature_prob[c][feature][value]\n",
    "                    else:\n",
    "                        prob=0\n",
    "                if(max_prob<prob):\n",
    "                    max_prob=prob\n",
    "                    predicted_class=c\n",
    "            predictions.append(predicted_class)\n",
    "        return predictions\n",
    "df=pd.read_csv(\"C:/Users/5th-NLP-Batch2/Downloads/Social_Network_Ads.csv\")\n",
    "df.head()\n",
    "x=df.iloc[:,1:4]\n",
    "y=df.iloc[:,-1]\n",
    "x.columns\n",
    "from sklearn.model_selection import train_test_split\n",
    "x_train,x_test,y_train,y_test=train_test_split(x,y,test_size=0.2,random_state=7)\n",
    "model=NaiveBayes()\n",
    "model.fit(x_train,y_train)\n",
    "for row in x_test:\n",
    "    print(row)\n",
    "y_pred=model.predict(x_test)\n",
    "from sklearn.metrics import accuracy_score, precision_score, recall_score, f1_score\n",
    "print(\"accuracy:\",accuracy_score(y_test,y_pred))\n",
    "print(\"precision:\",precision_score(y_test,y_pred))\n",
    "print(\"recall:\",recall_score(y_test,y_pred))\n",
    "print(\"f1 score:\",f1_score(y_test,y_pred))\n",
    "from sklearn.metrics import classification_report\n",
    "print(classification_report(y_test,y_pred))\n",
    "a=pd.DataFrame()\n",
    "a[\"Gender\"]=[\"Female\"]\n",
    "a[\"Age\"]=[25]\n",
    "a[\"EstimatedSalary\"]=[25000]\n",
    "model.predict(a)"
   ]
  },
  {
   "cell_type": "code",
   "execution_count": null,
   "id": "11c61b8b",
   "metadata": {},
   "outputs": [],
   "source": []
  }
 ],
 "metadata": {
  "kernelspec": {
   "display_name": "Python 3 (ipykernel)",
   "language": "python",
   "name": "python3"
  },
  "language_info": {
   "codemirror_mode": {
    "name": "ipython",
    "version": 3
   },
   "file_extension": ".py",
   "mimetype": "text/x-python",
   "name": "python",
   "nbconvert_exporter": "python",
   "pygments_lexer": "ipython3",
   "version": "3.11.5"
  }
 },
 "nbformat": 4,
 "nbformat_minor": 5
}
