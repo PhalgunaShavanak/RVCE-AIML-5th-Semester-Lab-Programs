{
 "cells": [
  {
   "cell_type": "code",
   "execution_count": 1,
   "id": "bd58bbb6",
   "metadata": {},
   "outputs": [],
   "source": [
    "def print_state(state):\n",
    "    for row in state:\n",
    "        print(''.join(map(str,row)))"
   ]
  },
  {
   "cell_type": "code",
   "execution_count": 2,
   "id": "11634361",
   "metadata": {},
   "outputs": [],
   "source": [
    "def find_blank(state):\n",
    "    for i in range(3):\n",
    "        for j in range(3):\n",
    "            if state[i][j] == 0:\n",
    "                return i,j\n",
    "    return"
   ]
  },
  {
   "cell_type": "code",
   "execution_count": 3,
   "id": "e1deb290",
   "metadata": {},
   "outputs": [],
   "source": [
    "def move_up(state):\n",
    "    i,j = find_blank(state)\n",
    "    if i>0:\n",
    "        new_state = [row[:] for row in state]\n",
    "        new_state[i][j], new_state[i-1][j] = new_state[i-1][j], new_state[i][j]\n",
    "        return new_state\n",
    "    else:\n",
    "        return None"
   ]
  },
  {
   "cell_type": "code",
   "execution_count": 4,
   "id": "3a2f38b4",
   "metadata": {},
   "outputs": [],
   "source": [
    "def move_down(state):\n",
    "    i,j = find_blank(state)\n",
    "    if i<2:\n",
    "        new_state = [row[:] for row in state]\n",
    "        new_state[i][j], new_state[i+1][j] = new_state[i+1][j], new_state[i][j]\n",
    "        return new_state\n",
    "    else:\n",
    "        return None"
   ]
  },
  {
   "cell_type": "code",
   "execution_count": 5,
   "id": "7680ef22",
   "metadata": {},
   "outputs": [],
   "source": [
    "def move_left(state):\n",
    "    i,j = find_blank(state)\n",
    "    if j>0:\n",
    "        new_state = [row[:] for row in state]\n",
    "        new_state[i][j], new_state[i][j-1] = new_state[i][j-1], new_state[i][j]\n",
    "        return new_state\n",
    "    else:\n",
    "        return None"
   ]
  },
  {
   "cell_type": "code",
   "execution_count": 6,
   "id": "437341f3",
   "metadata": {},
   "outputs": [],
   "source": [
    "def move_right(state):\n",
    "    i,j = find_blank(state)\n",
    "    if j<2:\n",
    "        new_state = [row[:] for row in state]\n",
    "        new_state[i][j], new_state[i][j+1] = new_state[i][j+1], new_state[i][j]\n",
    "        return new_state\n",
    "    else:\n",
    "        return None"
   ]
  },
  {
   "cell_type": "code",
   "execution_count": 7,
   "id": "54994a6f",
   "metadata": {},
   "outputs": [],
   "source": [
    "def calculate_heuristic(state1,state2):\n",
    "    h = 0\n",
    "    for i in range(3):\n",
    "        for j in range(3):\n",
    "            if state1[i][j] != state2[i][j]:\n",
    "                h += 1\n",
    "    return h"
   ]
  },
  {
   "cell_type": "code",
   "execution_count": 12,
   "id": "4edb3ea4",
   "metadata": {},
   "outputs": [],
   "source": [
    "def a_star(intial_state, goal_state):\n",
    "    OPEN = [(calculate_heuristic(intial_state,goal_state),0,intial_state)]\n",
    "    CLOSED = set()\n",
    "    count = 1\n",
    "    a = set()\n",
    "    while OPEN:\n",
    "        f, g, current_state = min(OPEN)\n",
    "        OPEN.remove((f,g,current_state))\n",
    "        CLOSED.add(tuple(map(tuple,current_state)))\n",
    "        if f not in a:\n",
    "            print_state(current_state)\n",
    "            print()\n",
    "            a.add(f)\n",
    "        \n",
    "        if current_state == goal_state:\n",
    "            print(len(a))\n",
    "            print(f\"Iteration = {g + 1}\")\n",
    "            print(\"SOLUTION FOUND..... \")\n",
    "            return\n",
    "        successors = [\n",
    "            (move_up(current_state), \"UP\"),\n",
    "            (move_down(current_state), \"DOWN\"),\n",
    "            (move_left(current_state), \"LEFT\"),\n",
    "            (move_right(current_state), \"RIGHT\")\n",
    "        ]\n",
    "        successors = [\n",
    "            (s,move) for s, move in successors if s is not None and tuple(map(tuple, s)) not in CLOSED\n",
    "        ]\n",
    "        for successor, move in successors:\n",
    "            h = calculate_heuristic(successor, current_state)\n",
    "            g_successor = g + 1\n",
    "            f_successor = g_successor  + h\n",
    "            if (h,g_successor, successor) not in OPEN:\n",
    "                OPEN.append((f_successor,g_successor,successor))\n",
    "    print(\"Solution Not Found\")"
   ]
  },
  {
   "cell_type": "code",
   "execution_count": 13,
   "id": "6727f5f8",
   "metadata": {},
   "outputs": [
    {
     "name": "stdout",
     "output_type": "stream",
     "text": [
      "Enter initial matrix:\n",
      "3 2 4\n"
     ]
    },
    {
     "ename": "ValueError",
     "evalue": "invalid literal for int() with base 10: '3 2 4'",
     "output_type": "error",
     "traceback": [
      "\u001b[1;31m---------------------------------------------------------------------------\u001b[0m",
      "\u001b[1;31mValueError\u001b[0m                                Traceback (most recent call last)",
      "Cell \u001b[1;32mIn[13], line 6\u001b[0m\n\u001b[0;32m      4\u001b[0m row \u001b[38;5;241m=\u001b[39m []\n\u001b[0;32m      5\u001b[0m \u001b[38;5;28;01mfor\u001b[39;00m _ \u001b[38;5;129;01min\u001b[39;00m \u001b[38;5;28mrange\u001b[39m(\u001b[38;5;241m3\u001b[39m):\n\u001b[1;32m----> 6\u001b[0m     a \u001b[38;5;241m=\u001b[39m \u001b[38;5;28mint\u001b[39m(\u001b[38;5;28minput\u001b[39m())\n\u001b[0;32m      7\u001b[0m     row\u001b[38;5;241m.\u001b[39mappend(a)\n\u001b[0;32m      8\u001b[0m intial_state\u001b[38;5;241m.\u001b[39mappend(row)\n",
      "\u001b[1;31mValueError\u001b[0m: invalid literal for int() with base 10: '3 2 4'"
     ]
    }
   ],
   "source": [
    "intial_state = []\n",
    "print(\"Enter initial matrix:\")\n",
    "for _ in range(3):\n",
    "    row = []\n",
    "    for _ in range(3):\n",
    "        a = int(input())\n",
    "        row.append(a)\n",
    "    intial_state.append(row)\n",
    "print(\"Intial Matrix\")\n",
    "for row in intial_state:\n",
    "    print(row)"
   ]
  },
  {
   "cell_type": "code",
   "execution_count": 10,
   "id": "875f0a0d",
   "metadata": {},
   "outputs": [
    {
     "name": "stdout",
     "output_type": "stream",
     "text": [
      "Enter goal_state matrix:\n",
      "\n"
     ]
    },
    {
     "ename": "ValueError",
     "evalue": "invalid literal for int() with base 10: ''",
     "output_type": "error",
     "traceback": [
      "\u001b[1;31m---------------------------------------------------------------------------\u001b[0m",
      "\u001b[1;31mValueError\u001b[0m                                Traceback (most recent call last)",
      "Cell \u001b[1;32mIn[10], line 6\u001b[0m\n\u001b[0;32m      4\u001b[0m row \u001b[38;5;241m=\u001b[39m []\n\u001b[0;32m      5\u001b[0m \u001b[38;5;28;01mfor\u001b[39;00m _ \u001b[38;5;129;01min\u001b[39;00m \u001b[38;5;28mrange\u001b[39m(\u001b[38;5;241m3\u001b[39m):\n\u001b[1;32m----> 6\u001b[0m     a \u001b[38;5;241m=\u001b[39m \u001b[38;5;28mint\u001b[39m(\u001b[38;5;28minput\u001b[39m())\n\u001b[0;32m      7\u001b[0m     row\u001b[38;5;241m.\u001b[39mappend(a)\n\u001b[0;32m      8\u001b[0m goal_state\u001b[38;5;241m.\u001b[39mappend(row)\n",
      "\u001b[1;31mValueError\u001b[0m: invalid literal for int() with base 10: ''"
     ]
    }
   ],
   "source": [
    "goal_state = []\n",
    "print(\"Enter goal_state matrix:\")\n",
    "for _ in range(3):\n",
    "    row = []\n",
    "    for _ in range(3):\n",
    "        a = int(input())\n",
    "        row.append(a)\n",
    "    goal_state.append(row)\n",
    "print(\"goal_state Matrix\")\n",
    "for row in goal_state:\n",
    "    print(row)"
   ]
  },
  {
   "cell_type": "code",
   "execution_count": 11,
   "id": "7216a237",
   "metadata": {},
   "outputs": [
    {
     "ename": "IndexError",
     "evalue": "list index out of range",
     "output_type": "error",
     "traceback": [
      "\u001b[1;31m---------------------------------------------------------------------------\u001b[0m",
      "\u001b[1;31mIndexError\u001b[0m                                Traceback (most recent call last)",
      "Cell \u001b[1;32mIn[11], line 1\u001b[0m\n\u001b[1;32m----> 1\u001b[0m a_star(intial_state, goal_state)\n",
      "Cell \u001b[1;32mIn[8], line 2\u001b[0m, in \u001b[0;36ma_star\u001b[1;34m(intial_state, goal_state)\u001b[0m\n\u001b[0;32m      1\u001b[0m \u001b[38;5;28;01mdef\u001b[39;00m \u001b[38;5;21ma_star\u001b[39m(intial_state, goal_state):\n\u001b[1;32m----> 2\u001b[0m     OPEN \u001b[38;5;241m=\u001b[39m [(calculate_heuristic(intial_state,goal_state),\u001b[38;5;241m0\u001b[39m,intial_state)]\n\u001b[0;32m      3\u001b[0m     CLOSED \u001b[38;5;241m=\u001b[39m \u001b[38;5;28mset\u001b[39m()\n\u001b[0;32m      4\u001b[0m     count \u001b[38;5;241m=\u001b[39m \u001b[38;5;241m1\u001b[39m\n",
      "Cell \u001b[1;32mIn[7], line 5\u001b[0m, in \u001b[0;36mcalculate_heuristic\u001b[1;34m(state1, state2)\u001b[0m\n\u001b[0;32m      3\u001b[0m \u001b[38;5;28;01mfor\u001b[39;00m i \u001b[38;5;129;01min\u001b[39;00m \u001b[38;5;28mrange\u001b[39m(\u001b[38;5;241m3\u001b[39m):\n\u001b[0;32m      4\u001b[0m     \u001b[38;5;28;01mfor\u001b[39;00m j \u001b[38;5;129;01min\u001b[39;00m \u001b[38;5;28mrange\u001b[39m(\u001b[38;5;241m3\u001b[39m):\n\u001b[1;32m----> 5\u001b[0m         \u001b[38;5;28;01mif\u001b[39;00m state1[i][j] \u001b[38;5;241m!=\u001b[39m state2[i][j]:\n\u001b[0;32m      6\u001b[0m             h \u001b[38;5;241m+\u001b[39m\u001b[38;5;241m=\u001b[39m \u001b[38;5;241m1\u001b[39m\n\u001b[0;32m      7\u001b[0m \u001b[38;5;28;01mreturn\u001b[39;00m h\n",
      "\u001b[1;31mIndexError\u001b[0m: list index out of range"
     ]
    }
   ],
   "source": [
    "a_star(intial_state, goal_state)"
   ]
  },
  {
   "cell_type": "code",
   "execution_count": null,
   "id": "aec80b34",
   "metadata": {},
   "outputs": [],
   "source": []
  },
  {
   "cell_type": "code",
   "execution_count": null,
   "id": "840de512",
   "metadata": {},
   "outputs": [],
   "source": []
  },
  {
   "cell_type": "code",
   "execution_count": null,
   "id": "af9cbe84",
   "metadata": {},
   "outputs": [],
   "source": []
  }
 ],
 "metadata": {
  "kernelspec": {
   "display_name": "Python 3 (ipykernel)",
   "language": "python",
   "name": "python3"
  },
  "language_info": {
   "codemirror_mode": {
    "name": "ipython",
    "version": 3
   },
   "file_extension": ".py",
   "mimetype": "text/x-python",
   "name": "python",
   "nbconvert_exporter": "python",
   "pygments_lexer": "ipython3",
   "version": "3.11.5"
  }
 },
 "nbformat": 4,
 "nbformat_minor": 5
}
